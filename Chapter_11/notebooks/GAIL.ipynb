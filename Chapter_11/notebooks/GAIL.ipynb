{
 "cells": [
  {
   "cell_type": "code",
   "execution_count": null,
   "metadata": {},
   "outputs": [],
   "source": [
    "! pip3 install gym"
   ]
  },
  {
   "cell_type": "code",
   "execution_count": null,
   "metadata": {
    "scrolled": true
   },
   "outputs": [],
   "source": [
    "%matplotlib inline"
   ]
  },
  {
   "cell_type": "code",
   "execution_count": null,
   "metadata": {},
   "outputs": [],
   "source": [
    "import tensorflow as tf\n"
   ]
  },
  {
   "cell_type": "code",
   "execution_count": null,
   "metadata": {},
   "outputs": [],
   "source": [
    "t = 0\n",
    "data['acs'][0][0]"
   ]
  },
  {
   "cell_type": "code",
   "execution_count": null,
   "metadata": {
    "scrolled": true
   },
   "outputs": [],
   "source": [
    "!pip3 install mujoco_py"
   ]
  },
  {
   "cell_type": "code",
   "execution_count": null,
   "metadata": {},
   "outputs": [],
   "source": [
    "import numpy as np\n",
    "data = np.load('deterministic.trpo.Hopper.0.00.npz')"
   ]
  },
  {
   "cell_type": "code",
   "execution_count": null,
   "metadata": {
    "scrolled": true
   },
   "outputs": [],
   "source": [
    "env.reset()\n",
    "\n",
    "for t in range(100):\n",
    "    \n",
    "    action = env.action_space.sample()\n",
    "    observation, reward, done, info = env.step(action)\n",
    "    env.render()\n",
    "    if done:\n",
    "        break\n",
    "env.close()"
   ]
  },
  {
   "cell_type": "code",
   "execution_count": null,
   "metadata": {},
   "outputs": [],
   "source": [
    "print(data['obs'].shape)"
   ]
  },
  {
   "cell_type": "code",
   "execution_count": null,
   "metadata": {},
   "outputs": [],
   "source": [
    "for i_episode in range(20):\n",
    "    observation = env.reset()\n",
    "    episode = np.random.choice(data['acs'].shape[0])\n",
    "    for t in range(1000):\n",
    "        env.render()\n",
    "        action = data['acs'][episode][t]\n",
    "        observation, reward, done, info = env.step(action)\n",
    "        if done:\n",
    "            print(\"Episode finished after {} timesteps\".format(t+1))\n",
    "            break\n",
    "env.close()"
   ]
  },
  {
   "cell_type": "code",
   "execution_count": null,
   "metadata": {},
   "outputs": [],
   "source": [
    "def mujoco_generator(mujoco_dataset):\n",
    "    for item in zip(*[mujoco_dataset[key] for key in mujoco_dataset.files]):\n",
    "        yield {key:value for key,value in zip( mujoco_dataset.files,item)}"
   ]
  },
  {
   "cell_type": "code",
   "execution_count": null,
   "metadata": {},
   "outputs": [],
   "source": [
    "mujuco_hopper_tf = tf.data.Dataset.from_generator(\n",
    "    generator = lambda: (row for row in mujoco_generator(mujoco_hopper_np)),\n",
    "    output_types={k: tf.float32 for k in next(mujoco_generator(mujoco_hopper_np)).keys()},\n",
    "    output_shapes={k: v.shape for k, v in next(mujoco_generator(mujoco_hopper_np)).items()}\n",
    ")"
   ]
  },
  {
   "cell_type": "code",
   "execution_count": 1,
   "metadata": {},
   "outputs": [],
   "source": [
    "import gym\n",
    "env = gym.make('Hopper-v2')"
   ]
  },
  {
   "cell_type": "code",
   "execution_count": 2,
   "metadata": {},
   "outputs": [],
   "source": [
    "from __future__ import absolute_import, division, \\\n",
    "    print_function, unicode_literals\n",
    "\n",
    "import tensorflow as tf\n",
    "import numpy as np\n",
    "\n",
    "mujoco_hopper_np = np.load('deterministic.trpo.Hopper.0.00.npz')\n",
    "#mujuco_hopper_tf = tf.data.Dataset.from_generator()"
   ]
  },
  {
   "cell_type": "code",
   "execution_count": 19,
   "metadata": {},
   "outputs": [],
   "source": [
    "import tensorflow_probability as tfp\n",
    "import tensorflow as tf\n",
    "tfd = tfp.distributions\n",
    "\n",
    "class ActorCritic(tf.keras.Model):\n",
    "    \n",
    "    def __init__(self, name='actor_critic', dim_actions=3, num_layers=2, input_shape=(11)\n",
    "                 , num_units=100, **kwargs):\n",
    "        super().__init__(name=name, **kwargs)\n",
    "        self._num_layers = num_layers\n",
    "        self._num_units = num_units\n",
    "        self._dim_actions = dim_actions\n",
    "        self._layers = list()\n",
    "        for n, l in enumerate(range(self._num_layers)):\n",
    "\n",
    "            self._layers.append(tf.keras.layers.Dense(\n",
    "                                          self._num_units,\n",
    "                                          activation=tf.nn.relu))\n",
    "            if n == 0:\n",
    "                self._layers[-1].build(input_shape)\n",
    "            else:\n",
    "                self._layers[-1].build((num_units))\n",
    "        self._value_output = tf.keras.layers.Dense(\n",
    "                                            1,\n",
    "                                          activation=None)\n",
    "        self._value_output.build((num_units))\n",
    "        self._action_output = tf.keras.layers.Dense(\n",
    "                                            self._dim_actions,\n",
    "                                          activation=tf.nn.tanh)\n",
    "        self._action_output.build((num_units))\n",
    "        self._action_dist_std = tf.Variable([1., 1, 1], trainable=True)\n",
    "        self._action_dist =  None\n",
    "        \n",
    "\n",
    "    def get_params(self):\n",
    "        weights = []\n",
    "        for layer in self.layers:\n",
    "            weights += layer.trainable_weights\n",
    "        return weights+\\\n",
    "            self._action_output.trainable_weights + \\\n",
    "            self._value_output.trainable_weights + \\\n",
    "            [self._action_dist_std]\n",
    "        \n",
    "    \n",
    "    def call(self, inputs):\n",
    "        x = self._layers[0](inputs)\n",
    "        for layer in self._layers[1:self._num_layers]:\n",
    "            x = layer(x)\n",
    "        #self._action_dist = tfd.Normal(self._action_output(x)\n",
    "        #                               , tf.exp(self._action_dist_std))\n",
    "        return -1*tf.math.log(tf.sigmoid(self._value_output(x)))\n",
    "        #return self._value_output(x)\n",
    "    \n",
    "    def log_prob(self, x):\n",
    "        return self._action_dist.log_prob(x)\n",
    "    \n",
    "    def sample(self, inputs, output='action'):\n",
    "        x = self._layers[0](inputs)\n",
    "        for layer in self._layers[1:self._num_layers]:\n",
    "            x = layer(x)\n",
    "        self._action_dist = tfd.Normal(self._action_output(x),\n",
    "                                       tf.exp(self._action_dist_std))\n",
    "        \n",
    "        if output == 'action':\n",
    "            return self._action_dist.sample()\n",
    "        elif output == 'entropy':\n",
    "            return tf.reduce_mean(self._action_dist.entropy())\n",
    "        else:\n",
    "            raise ValueError(\"unknown sample type: {}\".format(output))\n",
    "\n",
    "\n",
    "\n",
    "        "
   ]
  },
  {
   "cell_type": "code",
   "execution_count": 65,
   "metadata": {},
   "outputs": [],
   "source": [
    "import copy\n",
    "\n",
    "class PPO(tf.keras.Model):\n",
    "    \n",
    "    def __init__(self, name='ppo', dim_actions=3, num_layers=2, num_units=100, \n",
    "                 eps=0.2, v_coeff=0.5, ent_coeff=0.01, lr=3e-4, **kwargs):\n",
    "        super().__init__(name=name, *kwargs)\n",
    "        self._dim_actions = dim_actions\n",
    "        self._num_layers = num_layers\n",
    "        self._num_units = num_units\n",
    "        self._eps = eps\n",
    "        self._v_coeff = v_coeff\n",
    "        self._ent_coeff = ent_coeff\n",
    "        self._policy = ActorCritic(num_layers=self._num_layers, num_units=self._num_units,\n",
    "                                        dim_actions=self._dim_actions)\n",
    "        self._new_policy = ActorCritic(num_layers=self._num_layers, num_units=self._num_units,\n",
    "                                        dim_actions=self._dim_actions)\n",
    "        self._optimizer = tf.keras.optimizers.Adam(lr)\n",
    "    \n",
    "    def loss(self, actions, observations, advantages, returns):\n",
    "        ratio = tf.exp(self._policy.log_prob(actions) - \n",
    "                       self._new_policy.log_prob(actions))\n",
    "        surr = ratio * advantages\n",
    "        actor_loss = tf.reduce_mean(\n",
    "                tf.minimum(surr, tf.clip_by_value(ratio, 1 - self._eps, 1 + self._eps) * advantages))\n",
    "        critic_loss = tf.reduce_mean(tf.square(returns - self._new_policy.call(observations)))\n",
    "        return -1*actor_loss - self._ent_coeff * tf.reduce_mean(self._new_policy.sample(observations, 'entropy')) \\\n",
    "                         + self._v_coeff * critic_loss\n",
    "    \n",
    "    def train_policy(self, actions, observations, advantages, returns):\n",
    "        params = self._new_policy.get_params()\n",
    "        with tf.GradientTape(watch_accessed_variables=False) as g:\n",
    "            g.watch(params)\n",
    "            cost = self.loss(actions, observations, advantages, returns)\n",
    "            \n",
    "        grads = g.gradient(cost, params)\n",
    "        grads = [grad if grad is not None else tf.zeros_like(var)\n",
    "              for var, grad in zip(params, grads)]\n",
    "        self._optimizer.apply_gradients(zip(grads, params),\n",
    "            experimental_aggregate_gradients=False)\n",
    "    \n",
    "    def update_policy(self):\n",
    "        self._policy = copy.deepcopy(self._new_policy)\n",
    "        \n",
    "    def get_action(self, x):\n",
    "        return self._new_policy.sample(x, output='action')\n",
    "    \n",
    "    def get_value(self, x):\n",
    "        return self._new_policy.call(x)\n",
    "            "
   ]
  },
  {
   "cell_type": "code",
   "execution_count": 66,
   "metadata": {},
   "outputs": [],
   "source": [
    "def ppo_iteration(mini_batch_size, observations, actions, returns, advantages):\n",
    "    batch_size = observations.shape[0]\n",
    "    for _ in range(batch_size // mini_batch_size):\n",
    "        rand_ids = np.random.randint(0, batch_size, mini_batch_size)\n",
    "        yield (observations[rand_ids, :], actions[rand_ids, :],\n",
    "               returns[rand_ids, :], advantages[rand_ids, :])\n"
   ]
  },
  {
   "cell_type": "code",
   "execution_count": 67,
   "metadata": {},
   "outputs": [],
   "source": [
    "class Discriminator(tf.keras.Model):\n",
    "    \n",
    "    def __init__(self, name='discriminator', dim_actions=3, num_layers=2, num_units=100, lr=3e-4, **kwargs):\n",
    "        super().__init__(name=name, **kwargs)\n",
    "        self._dim_actions = dim_actions\n",
    "        self._num_layers = num_layers\n",
    "        self._num_units = num_units\n",
    "        self._layers = list()\n",
    "        for l in range(self._num_layers):\n",
    "            self._layers.append(tf.keras.layers.Dense(\n",
    "                                          self._num_units,\n",
    "                                          activation=tf.nn.tanh))\n",
    "        self._layers.append(tf.keras.layers.Dense(\n",
    "                                          1,\n",
    "                                          activation=None))\n",
    "        self._optimizer = tf.keras.optimizers.Adam(lr)\n",
    "        \n",
    "    def call(self, x):\n",
    "        for layer in self._layers:\n",
    "            x = layer(x)\n",
    "        return x\n",
    "        \n",
    "    def get_params(self):\n",
    "        weights = []\n",
    "        for layer in self.layers:\n",
    "            weights += layer.trainable_weights\n",
    "        return weights\n",
    "    \n",
    "    def get_reward(self, x):\n",
    "        return -1*tf.squeeze(tf.math.log(tf.sigmoid(self.call(x))))\n",
    "    \n",
    "    def loss(self, x):\n",
    "        expert_out, policy_out = tf.split(self.call(x), num_or_size_splits=2, axis=0)\n",
    "        return (tf.nn.sigmoid_cross_entropy_with_logits(tf.ones_like(policy_out), policy_out)\n",
    "                     + tf.nn.sigmoid_cross_entropy_with_logits(tf.zeros_like(expert_out), expert_out))\n",
    "    \n",
    "    def train_discriminator(self, x):\n",
    "        params = self.get_params()\n",
    "        with tf.GradientTape(watch_accessed_variables=False) as g:\n",
    "            g.watch(params)\n",
    "            cost = self.loss(x)\n",
    "        grads = g.gradient(cost, params)\n",
    "        grads = [grad if grad is not None else tf.zeros_like(var)\n",
    "              for var, grad in zip(params, grads)]\n",
    "        self._optimizer.apply_gradients(zip(grads, params),\n",
    "            experimental_aggregate_gradients=False)"
   ]
  },
  {
   "cell_type": "code",
   "execution_count": 68,
   "metadata": {},
   "outputs": [],
   "source": [
    "\n",
    "def compute_gae(next_value, rewards, masks, values, gamma=0.99, tau=0.95):\n",
    "    values = values + [next_value]\n",
    "    gae = 0\n",
    "    returns = []\n",
    "    for step in reversed(range(len(rewards))):\n",
    "        delta = rewards[step] + gamma * values[step + 1] * masks[step] - values[step]\n",
    "        gae = delta + gamma * tau * masks[step] * gae\n",
    "        returns.insert(0, gae + values[step])\n",
    "    return returns"
   ]
  },
  {
   "cell_type": "code",
   "execution_count": 69,
   "metadata": {},
   "outputs": [],
   "source": [
    "from IPython.display import clear_output\n",
    "import matplotlib.pyplot as plt\n",
    "\n",
    "def plot(frame_idx, rewards):\n",
    "    clear_output(True)\n",
    "    plt.figure(figsize=(20,5))\n",
    "    plt.subplot(131)\n",
    "    plt.title('frame %s. reward: %s' % (frame_idx, rewards[-1]))\n",
    "    plt.plot(rewards)\n",
    "    plt.show()\n",
    "    \n",
    "def test_env(model, vis=False):\n",
    "    ob = env.reset()\n",
    "    ob = tf.reshape(tf.convert_to_tensor(ob), (1,11))\n",
    "    done = False\n",
    "    total_reward = 0\n",
    "    while not done:\n",
    "        if vis:\n",
    "            env.render()\n",
    "        ac = model.get_action(ob)[0]\n",
    "        #print(ac)\n",
    "        ac = tf.reshape(tf.convert_to_tensor(ac), (1, 3))\n",
    "        next_ob, reward, done, _ = env.step(ac)\n",
    "        #print(reward)\n",
    "        ob = next_ob\n",
    "        ob = tf.reshape(tf.convert_to_tensor(ob), (1,11))\n",
    "        total_reward += reward\n",
    "    return total_reward"
   ]
  },
  {
   "cell_type": "code",
   "execution_count": 70,
   "metadata": {},
   "outputs": [],
   "source": [
    "ppo_hidden_size           = 256\n",
    "discriminator_hidden_size = 256\n",
    "lr                        = 3e-4\n",
    "num_steps                 = 200\n",
    "mini_batch_size           = 5\n",
    "ppo_epochs                = 5\n",
    "threshold_reward          = -200\n",
    "\n",
    "max_frames = 100000000\n",
    "frame_idx  = 0\n",
    "test_rewards = []"
   ]
  },
  {
   "cell_type": "code",
   "execution_count": 71,
   "metadata": {},
   "outputs": [
    {
     "data": {
      "image/png": "[encoded data removed]",
      "text/plain": [
       "<Figure size 1440x360 with 1 Axes>"
      ]
     },
     "metadata": {
      "needs_background": "light"
     },
     "output_type": "display_data"
    },
    {
     "ename": "MujocoException",
     "evalue": "Unknown warning type Time = 2.7680.Check for NaN in simulation.",
     "output_type": "error",
     "traceback": [
      "\u001b[0;31m---------------------------------------------------------------------------\u001b[0m",
      "\u001b[0;31mMujocoException\u001b[0m                           Traceback (most recent call last)",
      "\u001b[0;32m<ipython-input-71-9cf2cc987bd9>\u001b[0m in \u001b[0;36m<module>\u001b[0;34m\u001b[0m\n\u001b[1;32m     33\u001b[0m         \u001b[0mac\u001b[0m \u001b[0;34m=\u001b[0m \u001b[0mppo\u001b[0m\u001b[0;34m.\u001b[0m\u001b[0mget_action\u001b[0m\u001b[0;34m(\u001b[0m\u001b[0mob\u001b[0m\u001b[0;34m)\u001b[0m\u001b[0;34m\u001b[0m\u001b[0;34m\u001b[0m\u001b[0m\n\u001b[1;32m     34\u001b[0m         \u001b[0mac\u001b[0m \u001b[0;34m=\u001b[0m \u001b[0mtf\u001b[0m\u001b[0;34m.\u001b[0m\u001b[0mreshape\u001b[0m\u001b[0;34m(\u001b[0m\u001b[0mtf\u001b[0m\u001b[0;34m.\u001b[0m\u001b[0mconvert_to_tensor\u001b[0m\u001b[0;34m(\u001b[0m\u001b[0mac\u001b[0m\u001b[0;34m)\u001b[0m\u001b[0;34m,\u001b[0m \u001b[0;34m(\u001b[0m\u001b[0;36m1\u001b[0m\u001b[0;34m,\u001b[0m \u001b[0;36m3\u001b[0m\u001b[0;34m)\u001b[0m\u001b[0;34m)\u001b[0m\u001b[0;34m\u001b[0m\u001b[0;34m\u001b[0m\u001b[0m\n\u001b[0;32m---> 35\u001b[0;31m         \u001b[0mnext_ob\u001b[0m\u001b[0;34m,\u001b[0m \u001b[0m_\u001b[0m\u001b[0;34m,\u001b[0m \u001b[0mdone\u001b[0m\u001b[0;34m,\u001b[0m \u001b[0m_\u001b[0m \u001b[0;34m=\u001b[0m \u001b[0menv\u001b[0m\u001b[0;34m.\u001b[0m\u001b[0mstep\u001b[0m\u001b[0;34m(\u001b[0m\u001b[0mac\u001b[0m\u001b[0;34m)\u001b[0m\u001b[0;34m\u001b[0m\u001b[0;34m\u001b[0m\u001b[0m\n\u001b[0m\u001b[1;32m     36\u001b[0m         \u001b[0;31m#print(np.concatenate([ob, ac],axis=1))\u001b[0m\u001b[0;34m\u001b[0m\u001b[0;34m\u001b[0m\u001b[0;34m\u001b[0m\u001b[0m\n\u001b[1;32m     37\u001b[0m         \u001b[0mreward\u001b[0m \u001b[0;34m=\u001b[0m \u001b[0mdiscriminator\u001b[0m\u001b[0;34m.\u001b[0m\u001b[0mget_reward\u001b[0m\u001b[0;34m(\u001b[0m\u001b[0mnp\u001b[0m\u001b[0;34m.\u001b[0m\u001b[0mconcatenate\u001b[0m\u001b[0;34m(\u001b[0m\u001b[0;34m[\u001b[0m\u001b[0mob\u001b[0m\u001b[0;34m,\u001b[0m \u001b[0mac\u001b[0m\u001b[0;34m]\u001b[0m\u001b[0;34m,\u001b[0m \u001b[0maxis\u001b[0m\u001b[0;34m=\u001b[0m\u001b[0;36m1\u001b[0m\u001b[0;34m)\u001b[0m\u001b[0;34m)\u001b[0m\u001b[0;34m\u001b[0m\u001b[0;34m\u001b[0m\u001b[0m\n",
      "\u001b[0;32m/usr/local/lib/python3.8/site-packages/gym/wrappers/time_limit.py\u001b[0m in \u001b[0;36mstep\u001b[0;34m(self, action)\u001b[0m\n\u001b[1;32m     14\u001b[0m     \u001b[0;32mdef\u001b[0m \u001b[0mstep\u001b[0m\u001b[0;34m(\u001b[0m\u001b[0mself\u001b[0m\u001b[0;34m,\u001b[0m \u001b[0maction\u001b[0m\u001b[0;34m)\u001b[0m\u001b[0;34m:\u001b[0m\u001b[0;34m\u001b[0m\u001b[0;34m\u001b[0m\u001b[0m\n\u001b[1;32m     15\u001b[0m         \u001b[0;32massert\u001b[0m \u001b[0mself\u001b[0m\u001b[0;34m.\u001b[0m\u001b[0m_elapsed_steps\u001b[0m \u001b[0;32mis\u001b[0m \u001b[0;32mnot\u001b[0m \u001b[0;32mNone\u001b[0m\u001b[0;34m,\u001b[0m \u001b[0;34m\"Cannot call env.step() before calling reset()\"\u001b[0m\u001b[0;34m\u001b[0m\u001b[0;34m\u001b[0m\u001b[0m\n\u001b[0;32m---> 16\u001b[0;31m         \u001b[0mobservation\u001b[0m\u001b[0;34m,\u001b[0m \u001b[0mreward\u001b[0m\u001b[0;34m,\u001b[0m \u001b[0mdone\u001b[0m\u001b[0;34m,\u001b[0m \u001b[0minfo\u001b[0m \u001b[0;34m=\u001b[0m \u001b[0mself\u001b[0m\u001b[0;34m.\u001b[0m\u001b[0menv\u001b[0m\u001b[0;34m.\u001b[0m\u001b[0mstep\u001b[0m\u001b[0;34m(\u001b[0m\u001b[0maction\u001b[0m\u001b[0;34m)\u001b[0m\u001b[0;34m\u001b[0m\u001b[0;34m\u001b[0m\u001b[0m\n\u001b[0m\u001b[1;32m     17\u001b[0m         \u001b[0mself\u001b[0m\u001b[0;34m.\u001b[0m\u001b[0m_elapsed_steps\u001b[0m \u001b[0;34m+=\u001b[0m \u001b[0;36m1\u001b[0m\u001b[0;34m\u001b[0m\u001b[0;34m\u001b[0m\u001b[0m\n\u001b[1;32m     18\u001b[0m         \u001b[0;32mif\u001b[0m \u001b[0mself\u001b[0m\u001b[0;34m.\u001b[0m\u001b[0m_elapsed_steps\u001b[0m \u001b[0;34m>=\u001b[0m \u001b[0mself\u001b[0m\u001b[0;34m.\u001b[0m\u001b[0m_max_episode_steps\u001b[0m\u001b[0;34m:\u001b[0m\u001b[0;34m\u001b[0m\u001b[0;34m\u001b[0m\u001b[0m\n",
      "\u001b[0;32m/usr/local/lib/python3.8/site-packages/gym/envs/mujoco/hopper.py\u001b[0m in \u001b[0;36mstep\u001b[0;34m(self, a)\u001b[0m\n\u001b[1;32m     10\u001b[0m     \u001b[0;32mdef\u001b[0m \u001b[0mstep\u001b[0m\u001b[0;34m(\u001b[0m\u001b[0mself\u001b[0m\u001b[0;34m,\u001b[0m \u001b[0ma\u001b[0m\u001b[0;34m)\u001b[0m\u001b[0;34m:\u001b[0m\u001b[0;34m\u001b[0m\u001b[0;34m\u001b[0m\u001b[0m\n\u001b[1;32m     11\u001b[0m         \u001b[0mposbefore\u001b[0m \u001b[0;34m=\u001b[0m \u001b[0mself\u001b[0m\u001b[0;34m.\u001b[0m\u001b[0msim\u001b[0m\u001b[0;34m.\u001b[0m\u001b[0mdata\u001b[0m\u001b[0;34m.\u001b[0m\u001b[0mqpos\u001b[0m\u001b[0;34m[\u001b[0m\u001b[0;36m0\u001b[0m\u001b[0;34m]\u001b[0m\u001b[0;34m\u001b[0m\u001b[0;34m\u001b[0m\u001b[0m\n\u001b[0;32m---> 12\u001b[0;31m         \u001b[0mself\u001b[0m\u001b[0;34m.\u001b[0m\u001b[0mdo_simulation\u001b[0m\u001b[0;34m(\u001b[0m\u001b[0ma\u001b[0m\u001b[0;34m,\u001b[0m \u001b[0mself\u001b[0m\u001b[0;34m.\u001b[0m\u001b[0mframe_skip\u001b[0m\u001b[0;34m)\u001b[0m\u001b[0;34m\u001b[0m\u001b[0;34m\u001b[0m\u001b[0m\n\u001b[0m\u001b[1;32m     13\u001b[0m         \u001b[0mposafter\u001b[0m\u001b[0;34m,\u001b[0m \u001b[0mheight\u001b[0m\u001b[0;34m,\u001b[0m \u001b[0mang\u001b[0m \u001b[0;34m=\u001b[0m \u001b[0mself\u001b[0m\u001b[0;34m.\u001b[0m\u001b[0msim\u001b[0m\u001b[0;34m.\u001b[0m\u001b[0mdata\u001b[0m\u001b[0;34m.\u001b[0m\u001b[0mqpos\u001b[0m\u001b[0;34m[\u001b[0m\u001b[0;36m0\u001b[0m\u001b[0;34m:\u001b[0m\u001b[0;36m3\u001b[0m\u001b[0;34m]\u001b[0m\u001b[0;34m\u001b[0m\u001b[0;34m\u001b[0m\u001b[0m\n\u001b[1;32m     14\u001b[0m         \u001b[0malive_bonus\u001b[0m \u001b[0;34m=\u001b[0m \u001b[0;36m1.0\u001b[0m\u001b[0;34m\u001b[0m\u001b[0;34m\u001b[0m\u001b[0m\n",
      "\u001b[0;32m/usr/local/lib/python3.8/site-packages/gym/envs/mujoco/mujoco_env.py\u001b[0m in \u001b[0;36mdo_simulation\u001b[0;34m(self, ctrl, n_frames)\u001b[0m\n\u001b[1;32m    123\u001b[0m         \u001b[0mself\u001b[0m\u001b[0;34m.\u001b[0m\u001b[0msim\u001b[0m\u001b[0;34m.\u001b[0m\u001b[0mdata\u001b[0m\u001b[0;34m.\u001b[0m\u001b[0mctrl\u001b[0m\u001b[0;34m[\u001b[0m\u001b[0;34m:\u001b[0m\u001b[0;34m]\u001b[0m \u001b[0;34m=\u001b[0m \u001b[0mctrl\u001b[0m\u001b[0;34m\u001b[0m\u001b[0;34m\u001b[0m\u001b[0m\n\u001b[1;32m    124\u001b[0m         \u001b[0;32mfor\u001b[0m \u001b[0m_\u001b[0m \u001b[0;32min\u001b[0m \u001b[0mrange\u001b[0m\u001b[0;34m(\u001b[0m\u001b[0mn_frames\u001b[0m\u001b[0;34m)\u001b[0m\u001b[0;34m:\u001b[0m\u001b[0;34m\u001b[0m\u001b[0;34m\u001b[0m\u001b[0m\n\u001b[0;32m--> 125\u001b[0;31m             \u001b[0mself\u001b[0m\u001b[0;34m.\u001b[0m\u001b[0msim\u001b[0m\u001b[0;34m.\u001b[0m\u001b[0mstep\u001b[0m\u001b[0;34m(\u001b[0m\u001b[0;34m)\u001b[0m\u001b[0;34m\u001b[0m\u001b[0;34m\u001b[0m\u001b[0m\n\u001b[0m\u001b[1;32m    126\u001b[0m \u001b[0;34m\u001b[0m\u001b[0m\n\u001b[1;32m    127\u001b[0m     def render(self,\n",
      "\u001b[0;32m/usr/local/lib/python3.8/site-packages/mujoco_py/mjsim.pyx\u001b[0m in \u001b[0;36mmujoco_py.cymj.MjSim.step\u001b[0;34m()\u001b[0m\n",
      "\u001b[0;32m/usr/local/lib/python3.8/site-packages/mujoco_py/cymj.pyx\u001b[0m in \u001b[0;36mmujoco_py.cymj.wrap_mujoco_warning.__exit__\u001b[0;34m()\u001b[0m\n",
      "\u001b[0;32m/usr/local/lib/python3.8/site-packages/mujoco_py/cymj.pyx\u001b[0m in \u001b[0;36mmujoco_py.cymj.c_warning_callback\u001b[0;34m()\u001b[0m\n",
      "\u001b[0;32m/usr/local/lib/python3.8/site-packages/mujoco_py/builder.py\u001b[0m in \u001b[0;36muser_warning_raise_exception\u001b[0;34m(warn_bytes)\u001b[0m\n\u001b[1;32m    361\u001b[0m     \u001b[0;31m# This unhelpfully-named warning is what you get if you feed MuJoCo NaNs\u001b[0m\u001b[0;34m\u001b[0m\u001b[0;34m\u001b[0m\u001b[0;34m\u001b[0m\u001b[0m\n\u001b[1;32m    362\u001b[0m     \u001b[0;32mif\u001b[0m \u001b[0;34m'Unknown warning type'\u001b[0m \u001b[0;32min\u001b[0m \u001b[0mwarn\u001b[0m\u001b[0;34m:\u001b[0m\u001b[0;34m\u001b[0m\u001b[0;34m\u001b[0m\u001b[0m\n\u001b[0;32m--> 363\u001b[0;31m         \u001b[0;32mraise\u001b[0m \u001b[0mMujocoException\u001b[0m\u001b[0;34m(\u001b[0m\u001b[0mwarn\u001b[0m \u001b[0;34m+\u001b[0m \u001b[0;34m'Check for NaN in simulation.'\u001b[0m\u001b[0;34m)\u001b[0m\u001b[0;34m\u001b[0m\u001b[0;34m\u001b[0m\u001b[0m\n\u001b[0m\u001b[1;32m    364\u001b[0m     \u001b[0;32mraise\u001b[0m \u001b[0mMujocoException\u001b[0m\u001b[0;34m(\u001b[0m\u001b[0;34m'Got MuJoCo Warning: {}'\u001b[0m\u001b[0;34m.\u001b[0m\u001b[0mformat\u001b[0m\u001b[0;34m(\u001b[0m\u001b[0mwarn\u001b[0m\u001b[0;34m)\u001b[0m\u001b[0;34m)\u001b[0m\u001b[0;34m\u001b[0m\u001b[0;34m\u001b[0m\u001b[0m\n\u001b[1;32m    365\u001b[0m \u001b[0;34m\u001b[0m\u001b[0m\n",
      "\u001b[0;31mMujocoException\u001b[0m: Unknown warning type Time = 2.7680.Check for NaN in simulation."
     ]
    }
   ],
   "source": [
    "import numpy as np\n",
    "ob_shape = list(env.observation_space.shape)\n",
    "ac_shape = list(env.action_space.shape)\n",
    "\n",
    "tf.compat.v1.logging.set_verbosity(tf.compat.v1.logging.WARN)\n",
    "\n",
    "\n",
    "ob = env.reset()\n",
    "early_stop = False\n",
    "\n",
    "\n",
    "ppo = PPO()\n",
    "\n",
    "discriminator = Discriminator()\n",
    "\n",
    "\n",
    "i_update = 0\n",
    "state = env.reset()\n",
    "early_stop = False\n",
    "\n",
    "while frame_idx < max_frames and not early_stop:\n",
    "    i_update += 1\n",
    "    \n",
    "    values    = []\n",
    "    obs    = []\n",
    "    acs   = []\n",
    "    rewards   = []\n",
    "    masks     = []\n",
    "    entropy = 0\n",
    "\n",
    "    for _ in range(num_steps):\n",
    "        ob = tf.reshape(tf.convert_to_tensor(ob), (1,11))\n",
    "        ac = ppo.get_action(ob)\n",
    "        ac = tf.reshape(tf.convert_to_tensor(ac), (1, 3))\n",
    "        next_ob, _, done, _ = env.step(ac)\n",
    "        #print(np.concatenate([ob, ac],axis=1))\n",
    "        reward = discriminator.get_reward(np.concatenate([ob, ac], axis=1))\n",
    "        #print(reward)\n",
    "        value = ppo.get_value(ob)\n",
    "        values.append(value)\n",
    "        rewards.append(reward)\n",
    "        masks.append((1-done))\n",
    "\n",
    "        obs.append(ob)\n",
    "        acs.append(ac)\n",
    "\n",
    "        ob = next_ob\n",
    "        frame_idx += 1\n",
    "\n",
    "        if frame_idx % 1000 == 0:\n",
    "            test_reward = np.mean([test_env(ppo) for _ in range(10)])\n",
    "            test_rewards.append(test_reward)\n",
    "            plot(frame_idx, test_rewards)\n",
    "            \n",
    "    next_ob = tf.reshape(tf.convert_to_tensor(next_ob), (1,11))\n",
    "    next_value = ppo.get_value(next_ob)\n",
    "    returns = compute_gae(next_value, rewards, masks, values)\n",
    "\n",
    "    returns = np.concatenate(returns)\n",
    "    values = np.concatenate(values)\n",
    "    obs = np.concatenate(obs)\n",
    "    acs = np.concatenate(acs)\n",
    "    advantages = returns - values\n",
    "    \n",
    "    # Policy Update\n",
    "    if i_update % 3 == 0:\n",
    "        ppo.update_policy()\n",
    "        for _ in range(ppo_epochs):\n",
    "            for ob_batch, ac_batch, return_batch, adv_batch in ppo_iteration(mini_batch_size, obs, acs, returns, advantages):\n",
    "                ppo.train_policy(ac_batch, ob_batch, adv_batch, return_batch)\n",
    "    \n",
    "    # Discriminator Update\n",
    "    expert_samples = np.random.randint(0, mujoco_hopper_np['acs'].shape[0], 1)\n",
    "    expert_ob_ac = np.concatenate([\n",
    "        mujoco_hopper_np['obs'][expert_samples,:num_steps,:].reshape(num_steps,11),\n",
    "        mujoco_hopper_np['acs'][expert_samples,:num_steps,:].reshape(num_steps,3)\n",
    "    ],1)\n",
    "    policy_ob_ac = np.concatenate([obs, acs], 1)\n",
    "    discriminator.train_discriminator(np.concatenate([expert_ob_ac, policy_ob_ac], axis=0))"
   ]
  },
  {
   "cell_type": "code",
   "execution_count": 60,
   "metadata": {},
   "outputs": [
    {
     "data": {
      "text/plain": [
       "[<matplotlib.lines.Line2D at 0x1450cba60>]"
      ]
     },
     "execution_count": 60,
     "metadata": {},
     "output_type": "execute_result"
    },
    {
     "data": {
      "image/png": "[encoded data removed]",
      "text/plain": [
       "<Figure size 432x288 with 1 Axes>"
      ]
     },
     "metadata": {
      "needs_background": "light"
     },
     "output_type": "display_data"
    }
   ],
   "source": [
    "plt.plot(mujoco_hopper_np['rews'][0][:200].cumsum())"
   ]
  },
  {
   "cell_type": "code",
   "execution_count": 61,
   "metadata": {},
   "outputs": [
    {
     "data": {
      "text/plain": [
       "(200, 11)"
      ]
     },
     "execution_count": 61,
     "metadata": {},
     "output_type": "execute_result"
    }
   ],
   "source": [
    "obs.shape"
   ]
  },
  {
   "cell_type": "code",
   "execution_count": 62,
   "metadata": {},
   "outputs": [
    {
     "data": {
      "text/plain": [
       "[<matplotlib.lines.Line2D at 0x144f658e0>]"
      ]
     },
     "execution_count": 62,
     "metadata": {},
     "output_type": "execute_result"
    },
    {
     "data": {
      "image/png": "[encoded data removed]",
      "text/plain": [
       "<Figure size 432x288 with 1 Axes>"
      ]
     },
     "metadata": {
      "needs_background": "light"
     },
     "output_type": "display_data"
    }
   ],
   "source": [
    "plt.plot(discriminator.get_reward(policy_ob_ac))\n",
    "plt.plot(discriminator.get_reward(expert_ob_ac))"
   ]
  },
  {
   "cell_type": "code",
   "execution_count": 63,
   "metadata": {},
   "outputs": [
    {
     "data": {
      "text/plain": [
       "array([[-0.07719508],\n",
       "       [-0.06276992],\n",
       "       [ 0.16823724],\n",
       "       [ 0.24616736],\n",
       "       [ 0.1724616 ],\n",
       "       [ 0.04458052],\n",
       "       [ 0.01678818],\n",
       "       [ 0.07430884],\n",
       "       [ 0.2199094 ],\n",
       "       [ 0.26988813],\n",
       "       [ 0.2571216 ],\n",
       "       [-0.10630035],\n",
       "       [ 0.3709961 ],\n",
       "       [-0.04497701],\n",
       "       [ 0.15200442],\n",
       "       [ 0.35746527],\n",
       "       [ 0.17116159],\n",
       "       [ 0.24363649],\n",
       "       [-0.05938667],\n",
       "       [ 0.19457775],\n",
       "       [ 0.06045669],\n",
       "       [ 0.181956  ],\n",
       "       [ 0.04385154],\n",
       "       [-0.08749534],\n",
       "       [-0.12686618],\n",
       "       [ 0.02549478],\n",
       "       [ 0.01337613],\n",
       "       [ 0.17769538],\n",
       "       [ 0.3823432 ],\n",
       "       [-0.05618531],\n",
       "       [ 0.2524083 ],\n",
       "       [-0.19374049],\n",
       "       [-0.04585779],\n",
       "       [ 0.06770211],\n",
       "       [-0.03582539],\n",
       "       [ 0.19008487],\n",
       "       [-0.20278817],\n",
       "       [-0.11420465],\n",
       "       [-0.14233178],\n",
       "       [-0.07062373],\n",
       "       [-0.03582317],\n",
       "       [-0.0658903 ],\n",
       "       [-0.11182524],\n",
       "       [-0.13923563],\n",
       "       [-0.25619856],\n",
       "       [-0.07355686],\n",
       "       [ 0.18667991],\n",
       "       [ 0.04643716],\n",
       "       [-0.05634774],\n",
       "       [-0.14151078],\n",
       "       [-0.13349563],\n",
       "       [ 0.01446471],\n",
       "       [-0.0623174 ],\n",
       "       [-0.17233965],\n",
       "       [-0.14508988],\n",
       "       [ 0.0052992 ],\n",
       "       [-0.06218129],\n",
       "       [-0.1515587 ],\n",
       "       [-0.03949346],\n",
       "       [ 0.17836943],\n",
       "       [ 0.22818771],\n",
       "       [ 0.08705041],\n",
       "       [ 0.1589128 ],\n",
       "       [ 0.07085691],\n",
       "       [ 0.07104114],\n",
       "       [-0.06782253],\n",
       "       [-0.12517028],\n",
       "       [-0.13559575],\n",
       "       [ 0.32361138],\n",
       "       [-0.00220121],\n",
       "       [ 0.00170733],\n",
       "       [ 0.16612415],\n",
       "       [ 0.06427488],\n",
       "       [-0.04082696],\n",
       "       [-0.11240748],\n",
       "       [ 0.01090147],\n",
       "       [-0.06810271],\n",
       "       [-0.14470068],\n",
       "       [-0.09843152],\n",
       "       [-0.0178057 ],\n",
       "       [ 0.01415372],\n",
       "       [-0.14202678],\n",
       "       [ 0.11621705],\n",
       "       [-0.07271522],\n",
       "       [-0.07782996],\n",
       "       [ 0.1605962 ],\n",
       "       [-0.01863536],\n",
       "       [-0.13000529],\n",
       "       [-0.10672791],\n",
       "       [ 0.20387882],\n",
       "       [-0.08959509],\n",
       "       [-0.00460577],\n",
       "       [ 0.04349925],\n",
       "       [-0.03507923],\n",
       "       [-0.08000214],\n",
       "       [-0.04210831],\n",
       "       [ 0.16935886],\n",
       "       [ 0.05006891],\n",
       "       [ 0.05061293],\n",
       "       [ 0.06540796],\n",
       "       [ 0.03653356],\n",
       "       [-0.06810462],\n",
       "       [ 0.31547964],\n",
       "       [ 0.40884405],\n",
       "       [-0.04412237],\n",
       "       [-0.17608693],\n",
       "       [-0.0615602 ],\n",
       "       [-0.13105927],\n",
       "       [-0.2052055 ],\n",
       "       [-0.1835495 ],\n",
       "       [ 0.11550105],\n",
       "       [-0.1547334 ],\n",
       "       [-0.1795944 ],\n",
       "       [ 0.31227425],\n",
       "       [ 0.11790533],\n",
       "       [-0.003095  ],\n",
       "       [-0.06375298],\n",
       "       [ 0.02430138],\n",
       "       [-0.00315388],\n",
       "       [-0.13363579],\n",
       "       [-0.06312597],\n",
       "       [-0.02203143],\n",
       "       [ 0.3156209 ],\n",
       "       [-0.00828277],\n",
       "       [-0.05418813],\n",
       "       [-0.13969722],\n",
       "       [-0.21288098],\n",
       "       [-0.15875752],\n",
       "       [ 0.05152652],\n",
       "       [ 0.17906778],\n",
       "       [-0.04544047],\n",
       "       [-0.06264114],\n",
       "       [-0.02684036],\n",
       "       [-0.1511912 ],\n",
       "       [ 0.08820462],\n",
       "       [ 0.07821774],\n",
       "       [-0.17404312],\n",
       "       [-0.01916017],\n",
       "       [-0.0812034 ],\n",
       "       [-0.11135118],\n",
       "       [-0.03505716],\n",
       "       [-0.16359356],\n",
       "       [ 0.05317122],\n",
       "       [-0.17623465],\n",
       "       [ 0.10315785],\n",
       "       [ 0.12370008],\n",
       "       [-0.01694801],\n",
       "       [-0.19816038],\n",
       "       [ 0.08488776],\n",
       "       [-0.11565135],\n",
       "       [-0.19288355],\n",
       "       [-0.07706104],\n",
       "       [ 0.02259625],\n",
       "       [-0.09581955],\n",
       "       [-0.11000185],\n",
       "       [-0.06642345],\n",
       "       [ 0.07491606],\n",
       "       [-0.0777059 ],\n",
       "       [-0.1627478 ],\n",
       "       [-0.0830442 ],\n",
       "       [-0.20265128],\n",
       "       [-0.04856598],\n",
       "       [ 0.16383013],\n",
       "       [-0.09705349],\n",
       "       [-0.15212746],\n",
       "       [-0.11351685],\n",
       "       [ 0.02760601],\n",
       "       [-0.09800145],\n",
       "       [-0.08572586],\n",
       "       [-0.01621139],\n",
       "       [ 0.04174809],\n",
       "       [ 0.02970625],\n",
       "       [-0.00460809],\n",
       "       [-0.05564258],\n",
       "       [ 0.15335862],\n",
       "       [-0.07445034],\n",
       "       [ 0.02273166],\n",
       "       [-0.05303854],\n",
       "       [-0.06631641],\n",
       "       [ 0.2118911 ],\n",
       "       [-0.13363755],\n",
       "       [-0.02803551],\n",
       "       [-0.12229643],\n",
       "       [-0.04642504],\n",
       "       [-0.06064242],\n",
       "       [-0.06124017],\n",
       "       [-0.20138425],\n",
       "       [ 0.12402441],\n",
       "       [-0.16155851],\n",
       "       [ 0.06239823],\n",
       "       [ 0.12000839],\n",
       "       [-0.01676375],\n",
       "       [-0.1308884 ],\n",
       "       [-0.13550836],\n",
       "       [ 0.2343914 ],\n",
       "       [-0.18329376],\n",
       "       [ 0.00408038],\n",
       "       [-0.16580313],\n",
       "       [ 0.10616447],\n",
       "       [ 0.00894696]], dtype=float32)"
      ]
     },
     "execution_count": 63,
     "metadata": {},
     "output_type": "execute_result"
    }
   ],
   "source": [
    "advantages"
   ]
  },
  {
   "cell_type": "code",
   "execution_count": 64,
   "metadata": {},
   "outputs": [
    {
     "data": {
      "text/plain": [
       "[<matplotlib.lines.Line2D at 0x1452f8b20>]"
      ]
     },
     "execution_count": 64,
     "metadata": {},
     "output_type": "execute_result"
    },
    {
     "data": {
      "image/png": "[encoded data removed]",
      "text/plain": [
       "<Figure size 432x288 with 1 Axes>"
      ]
     },
     "metadata": {
      "needs_background": "light"
     },
     "output_type": "display_data"
    }
   ],
   "source": [
    "plt.plot(ppo.get_value(policy_ob_ac[:,:11]))\n",
    "plt.plot(ppo.get_value(expert_ob_ac[:,:11]))"
   ]
  },
  {
   "cell_type": "code",
   "execution_count": 51,
   "metadata": {},
   "outputs": [
    {
     "name": "stdout",
     "output_type": "stream",
     "text": [
      "[[-7.26463928e+01 -2.11990976e+00  4.25127220e+01]\n",
      " [-2.50913124e+01 -3.64758492e+00 -8.00242615e+01]\n",
      " [-9.46033096e+01  1.81557140e+01  9.44270020e+01]\n",
      " [-1.16452255e+02 -1.16896286e+02 -7.81799469e+01]\n",
      " [-5.92543650e+00 -1.30328751e+01 -4.04797173e+01]\n",
      " [ 4.02776947e+01  6.78007355e+01  8.92932053e+01]\n",
      " [-2.24944191e+01 -5.36942291e+01 -2.22126446e+01]\n",
      " [ 1.45491199e+01 -8.27702904e+00 -4.51836662e+01]\n",
      " [-6.18021584e+01 -2.22433543e+00  2.16035213e+01]\n",
      " [-6.36205559e+01 -3.45204887e+01 -7.89846373e+00]\n",
      " [ 1.47325172e+01  5.87685013e+01  1.54600113e+02]\n",
      " [ 1.27417542e+02 -3.51212120e+01 -6.48387222e+01]\n",
      " [-7.80836563e+01  1.07959900e+01  2.77368145e+01]\n",
      " [ 2.32087269e+01  3.28159447e+01  8.83043900e+01]\n",
      " [ 5.98764801e+01 -2.09589214e+01  7.32945557e+01]\n",
      " [ 1.28589752e+02 -7.94111786e+01 -5.84062271e+01]\n",
      " [ 3.66608763e+00  4.03965988e+01 -1.20064339e+02]\n",
      " [-1.35796326e+02 -9.41295395e+01  7.76071014e+01]\n",
      " [-2.55125122e+01  2.22961254e+01  8.86086960e+01]\n",
      " [-5.49191666e+00 -6.10284500e+01  3.08999462e+01]\n",
      " [-1.65236835e+01 -2.15740566e+01 -1.01539833e+02]\n",
      " [ 2.13929825e+02  6.38897247e+01  5.22433319e+01]\n",
      " [ 6.88318176e+01 -1.08338234e+02 -4.04474449e+01]\n",
      " [-5.06001244e+01  8.95553017e+00 -4.28820114e+01]\n",
      " [ 1.22185555e+01 -6.39248390e+01  4.13134727e+01]\n",
      " [-8.65484009e+01 -8.51735306e+01  5.05147285e+01]\n",
      " [-3.20897141e+01  6.61276855e+01 -1.06392303e+02]\n",
      " [ 6.22120361e+01 -1.08105659e+02 -6.29897451e+00]\n",
      " [ 1.75236950e+01  4.18794966e+00 -8.26024933e+01]\n",
      " [-3.78792691e+00 -5.11369095e+01 -6.37896652e+01]\n",
      " [ 8.93768158e+01  3.50073929e+01 -2.21168098e+01]\n",
      " [ 5.91902504e+01  1.37580124e+02  2.80074062e+01]\n",
      " [-3.24415359e+01 -2.88081532e+01  1.35137985e+02]\n",
      " [-7.77439117e+01  3.90508308e+01  2.41265526e+01]\n",
      " [ 7.64356613e+01 -2.09472008e+01  9.30492935e+01]\n",
      " [-2.04251041e+01 -5.74812737e+01  1.19267838e+02]\n",
      " [-1.94712734e+01 -6.45275574e+01  6.18950348e+01]\n",
      " [ 7.32296219e+01  8.87816429e+00  3.39767876e+01]\n",
      " [-1.27534592e+02  1.07710819e+01  4.67186928e+01]\n",
      " [ 4.62405090e+01 -1.40182587e+02 -7.79918594e+01]\n",
      " [ 9.97570572e+01  5.10041142e+00 -8.51331863e+01]\n",
      " [-4.30977745e+01  4.41413269e+01 -6.35354614e+01]\n",
      " [ 2.72487564e+01  8.62205276e+01 -1.71321960e+02]\n",
      " [-1.35144701e+01  3.46993980e+01  9.64704361e+01]\n",
      " [-4.87216902e+00  8.08589401e+01 -1.67513676e+01]\n",
      " [-1.06822357e+01 -1.10981865e+01  3.79570532e+00]\n",
      " [-3.57601318e+01  8.36607208e+01 -7.38037720e+01]\n",
      " [ 3.07609577e+01  1.45801544e+02  1.49146283e+00]\n",
      " [-5.35485916e+01  5.65130920e+01  4.39507294e+01]\n",
      " [-3.56741943e+01 -8.50403137e+01 -7.85407791e+01]\n",
      " [ 8.09933624e+01  1.22723684e+01  3.53696861e+01]\n",
      " [-4.65226326e+01 -3.76016498e-02 -3.75418816e+01]\n",
      " [ 1.22847679e+02 -1.07766624e+02  5.15511932e+01]\n",
      " [-1.61615486e+01 -6.04979591e+01  9.44945831e+01]\n",
      " [ 4.30360909e+01  2.94309425e+00 -9.79151993e+01]\n",
      " [ 2.13267288e+01 -4.58723793e+01  3.48028526e+01]\n",
      " [-2.53285408e+01  2.24081306e+01 -1.28294647e+02]\n",
      " [-4.81241226e+01 -8.53383942e+01  1.42552509e+01]\n",
      " [ 3.97467766e+01 -2.43774231e+02  7.27126923e+01]\n",
      " [ 1.39938011e+01 -1.20792633e+02 -8.62474899e+01]\n",
      " [-4.88867950e+01 -6.05227776e+01  3.78179359e+00]\n",
      " [ 5.42076302e+01 -1.34740448e+02 -8.67301273e+00]\n",
      " [ 2.32303410e+01 -2.51701851e+01  8.13465271e+01]\n",
      " [-2.22552109e+01  2.42620869e+01 -7.74292450e+01]\n",
      " [ 4.81306076e+01  3.32819786e+01  1.60999115e+02]\n",
      " [ 4.08661156e+01  3.57203064e+01  1.68696995e+01]\n",
      " [ 8.46546173e+01  3.96272926e+01  1.04344460e+02]\n",
      " [-1.34078415e+02 -5.74560051e+01  4.67155685e+01]\n",
      " [-2.35059757e+01  1.12152815e+01 -1.27538185e+02]\n",
      " [ 8.42706680e+00  9.42728341e-01 -5.91615200e+00]\n",
      " [ 8.16892624e+01  4.50911026e+01  6.43514328e+01]\n",
      " [-4.64598885e+01  1.97108288e+01 -7.88067856e+01]\n",
      " [ 5.89626770e+01 -4.64974480e+01  2.27464581e+01]\n",
      " [-2.66841774e+01  1.00620680e+01  3.82176132e+01]\n",
      " [ 3.85765305e+01 -5.79921761e+01 -6.10850029e+01]\n",
      " [ 3.21914520e+01  6.58530350e+01  5.53244400e+01]\n",
      " [ 5.03877487e+01  2.48471432e+01  1.38995865e+02]\n",
      " [ 1.72087801e+00 -8.30979004e+01  9.37742615e+01]\n",
      " [ 1.09646935e+02 -3.67983131e+01  4.98861427e+01]\n",
      " [ 4.30272408e+01 -2.45490875e+01  9.16440201e+01]\n",
      " [-1.57481794e+01  9.20967484e+01 -4.34288254e+01]\n",
      " [ 2.01543255e+01  1.68661896e+02  2.51145668e+01]\n",
      " [-1.39260979e+01 -1.84922981e+01 -9.99352951e+01]\n",
      " [-9.46570873e+00 -1.86678658e+01  4.20786934e+01]\n",
      " [-3.13600311e+01  7.00652695e+01  1.12687195e+02]\n",
      " [ 3.39744568e+01 -5.71248093e+01 -5.22808609e+01]\n",
      " [ 4.85251846e+01 -1.55664463e+01  8.58280029e+01]\n",
      " [ 1.05674171e+02 -1.44367096e+02 -1.08457699e+01]\n",
      " [-1.33757992e+01 -8.29981136e+00 -2.61877594e+01]\n",
      " [ 2.68435497e+01  1.36632492e+02  5.05793953e+01]\n",
      " [ 8.72933578e+01 -9.79293289e+01 -5.72313499e+01]\n",
      " [ 6.02833138e+01  4.21179619e+01 -1.89936028e+01]\n",
      " [-1.27974388e+02 -3.78148956e+01  1.35304749e+02]\n",
      " [ 1.37907085e+01  1.61268265e+02 -5.64471321e+01]\n",
      " [ 5.31334686e+01  7.42470801e-01 -1.25806761e+01]\n",
      " [ 1.57886171e+01  4.32277145e+01  4.16386566e+01]\n",
      " [-7.09868469e+01  8.99544678e+01 -1.66656532e+01]\n",
      " [-5.11418953e+01  1.35999050e+01 -1.57484531e+00]\n",
      " [-8.13141098e+01 -7.74964142e+01 -6.36826782e+01]\n",
      " [-6.14819031e+01 -1.96998959e+01 -1.31777878e+02]\n",
      " [-4.57473450e+01  1.05780014e+02 -1.21692192e+02]\n",
      " [ 2.32999039e+01 -1.43419464e+02 -5.09380875e+01]\n",
      " [ 5.95440979e+01  5.90062332e+00  3.99360580e+01]\n",
      " [-4.85466614e+01 -2.55931091e+01 -7.33628540e+01]\n",
      " [-8.14164581e+01  4.61910553e+01  4.27983246e+01]\n",
      " [ 7.40568161e+00 -1.14701900e+01 -7.39973526e+01]\n",
      " [-1.44672756e+01 -5.74794121e+01  2.28400173e+01]\n",
      " [ 3.18024540e+01  5.07042313e+00  8.76089001e+00]\n",
      " [-2.63608894e+01 -6.12936163e+00  6.80000610e+01]\n",
      " [ 1.30394470e+02 -6.48141785e+01  9.89189434e+00]\n",
      " [ 6.16162949e+01 -1.02074287e+02  4.46780548e+01]\n",
      " [ 5.50014153e+01  7.76132507e+01  3.43888321e+01]\n",
      " [ 1.71927700e+01 -8.26814957e+01 -2.10898495e+01]\n",
      " [-3.26618156e+01 -5.33626366e+01  1.94371510e+01]\n",
      " [ 5.96571732e+01 -6.21683006e+01  6.04943275e+01]\n",
      " [ 1.40307358e+02  1.07773308e+02  3.39390030e+01]\n",
      " [ 5.25751572e+01 -6.60843124e+01  1.80158825e+01]\n",
      " [-1.10520088e+02  5.97004662e+01 -9.18865585e+00]\n",
      " [ 7.48727875e+01 -5.45993519e+00  9.36714935e+01]\n",
      " [-1.22944733e+02  6.79344254e+01  1.92731438e+01]\n",
      " [ 8.18082123e+01 -1.61054764e+02  8.02162933e+01]\n",
      " [-9.46976547e+01  8.68299942e+01  1.08656738e+02]\n",
      " [-3.62568092e+01 -1.39965286e+02 -1.16609482e+02]\n",
      " [ 3.80016327e+01  2.13731098e+01  7.15980453e+01]\n",
      " [ 1.87799740e+00 -5.57626343e+01  2.30062389e+01]\n",
      " [ 1.13859856e+02  1.29171692e+02  2.46497421e+01]\n",
      " [-6.53396988e+01 -2.96605158e+00  2.04729595e+01]\n",
      " [-9.30161972e+01 -8.33204422e+01 -3.24024963e+01]\n",
      " [-1.52671112e+02  2.41551266e+01  3.35039978e+01]\n",
      " [ 1.22894325e+02  4.50299644e+01  2.57913837e+01]\n",
      " [-1.49006546e+02  4.49617271e+01 -2.23940449e+01]\n",
      " [ 5.27556419e+01  8.77578659e+01  3.09933453e+01]\n",
      " [-6.53667021e+00 -1.45636536e+02 -2.37202892e+01]\n",
      " [ 5.23561745e+01 -7.37068939e+01  2.50994473e+01]\n",
      " [-1.21990814e+02  1.42705774e+01 -6.64813461e+01]\n",
      " [ 3.76634712e+01 -7.50008850e+01  4.35917320e+01]\n",
      " [ 7.22086945e+01 -7.68174973e+01 -1.74665051e+01]\n",
      " [-5.47489357e+01  2.63699875e+01 -2.34980946e+01]\n",
      " [-8.45215149e+01  5.10753860e+01  3.59705162e+01]\n",
      " [-9.47237625e+01  8.75095367e+01  3.85395050e+01]\n",
      " [-5.44837303e+01  3.48392258e+01 -5.85653954e+01]\n",
      " [-5.81497345e+01 -4.71450081e+01 -2.97183857e+01]\n",
      " [ 4.13901672e+01 -6.80445251e+01 -7.39350662e+01]\n",
      " [-8.31690140e+01  5.41422958e+01 -1.71432724e+01]\n",
      " [ 6.77046204e+01 -7.10271378e+01 -1.84475574e+01]\n",
      " [-5.45039253e+01 -2.27017784e+01  3.83143578e+01]\n",
      " [-7.47598410e+00  1.52072458e+01 -7.07458973e+00]\n",
      " [ 8.72401333e+00 -3.24254265e+01 -5.26180916e+01]\n",
      " [-1.27703562e+01 -6.53722076e+01  2.15358677e+01]\n",
      " [-5.31492538e+01  1.84000607e+01 -1.26423218e+02]\n",
      " [-1.32004490e+01  5.49119263e+01 -9.20794525e+01]\n",
      " [ 9.70907135e+01  8.26382732e+00  5.38303261e+01]\n",
      " [ 3.92888451e+01  9.83042431e+00  4.03627281e+01]\n",
      " [-2.46260567e+01  1.04483879e+02  7.83778687e+01]\n",
      " [-2.02686329e+01  1.60481995e+02  1.04943611e+02]\n",
      " [ 2.46378460e+01 -1.13601398e+00 -1.91286449e+01]\n",
      " [ 4.38867836e+01 -4.50513153e+01 -6.99920425e+01]\n",
      " [-4.97803459e+01 -3.18760548e+01  3.15671673e+01]\n",
      " [-5.14429779e+01  4.43647881e+01 -1.46082377e+00]\n",
      " [-5.05846481e+01  4.73012199e+01 -1.25733864e+02]\n",
      " [ 1.10776758e+01 -5.86119881e+01  5.45731087e+01]\n",
      " [ 1.77387886e+01 -4.83465958e+00 -3.48399582e+01]\n",
      " [ 1.50664062e+02  2.24391155e+01  1.53279358e+02]\n",
      " [ 1.86810944e+02  1.01050072e+02 -1.62793217e+01]\n",
      " [-8.67178321e-01 -3.77097664e+01  8.64403687e+01]\n",
      " [-4.50316143e+00 -7.21935959e+01 -4.41158981e+01]\n",
      " [ 8.77909927e+01 -4.23167229e+01 -5.92631912e+01]\n",
      " [-8.64323120e+01 -1.78660461e+02  9.29921722e+01]\n",
      " [-3.29146266e+00  1.07839195e+02 -3.29150658e+01]\n",
      " [-7.46533279e+01 -4.50579376e+01  4.37480507e+01]\n",
      " [ 8.82794113e+01  6.81140289e+01  1.38542450e+02]\n",
      " [ 6.82251358e+01 -9.17315826e+01 -1.00299826e+01]\n",
      " [ 7.53683777e+01  4.71127129e+01 -9.67365570e+01]\n",
      " [-1.00719330e+02 -4.24905815e+01  1.01309967e+02]\n",
      " [ 1.59198807e+02  5.49084139e+00 -6.64194584e+00]\n",
      " [ 5.51342430e+01 -1.89706268e+02 -7.58630142e+01]\n",
      " [-8.43258972e+01  3.22020650e-01 -8.14751816e+01]\n",
      " [-7.51335907e+01  2.79190483e+01 -1.04330816e+01]\n",
      " [ 6.63662415e+01 -1.07896805e+02 -1.13618116e+01]\n",
      " [-6.06523323e+01 -7.09246216e+01 -8.72452545e+01]\n",
      " [ 1.46870003e+01 -2.01165600e+01 -2.01922951e+01]\n",
      " [ 6.24338074e+01  7.93992310e+01 -1.96730556e+01]\n",
      " [ 1.18585815e+02  4.53295135e+01 -6.44483414e+01]\n",
      " [-5.66177139e+01  9.98940754e+00  1.00447769e+02]\n",
      " [-6.66420135e+01 -1.57573290e+01  5.11588516e+01]\n",
      " [ 6.73484039e+01 -7.25386124e+01  9.59418106e+01]\n",
      " [-5.20111656e+01 -6.96098251e+01  7.21065235e+00]\n",
      " [-5.44068222e+01  2.79783654e+00 -1.11342552e+02]\n",
      " [-3.65692024e+01  8.59447174e+01 -2.97377243e+01]\n",
      " [-9.91637230e+00 -2.54123096e+01 -1.48043411e+02]\n",
      " [-5.79770203e+01 -1.25438141e+02  8.65176773e+01]\n",
      " [ 5.79614449e+00 -3.05392208e+01  5.97081566e+01]\n",
      " [-1.04031479e+02 -9.38012924e+01  8.05572357e+01]\n",
      " [-8.44762878e+01  7.04985523e+00  6.80608368e+01]\n",
      " [-1.32698107e+01 -3.10219216e+00 -1.16737610e+02]\n",
      " [-1.46602907e+01 -7.35037613e+01 -5.41038370e+00]\n",
      " [-2.82759895e+01  1.71619186e+01  7.90113525e+01]\n",
      " [-1.21305237e+02  4.62260780e+01 -7.47134781e+01]\n",
      " [ 9.16910553e+01  5.06064301e+01 -5.34592056e+01]\n",
      " [-7.41051788e+01  8.05798569e+01  3.88041000e+01]]\n"
     ]
    }
   ],
   "source": [
    "#print(expert_ob_ac[:,-3:])\n",
    "print(policy_ob_ac[:,-3:])"
   ]
  },
  {
   "cell_type": "code",
   "execution_count": 52,
   "metadata": {},
   "outputs": [
    {
     "data": {
      "text/plain": [
       "-118.11516805320683"
      ]
     },
     "execution_count": 52,
     "metadata": {},
     "output_type": "execute_result"
    }
   ],
   "source": [
    "test_env(ppo)"
   ]
  },
  {
   "cell_type": "code",
   "execution_count": 32,
   "metadata": {},
   "outputs": [
    {
     "data": {
      "text/plain": [
       "array([[ 2.0597913 ,  1.3272896 ,  1.1536376 ],\n",
       "       [ 1.5374647 ,  1.5265774 ,  1.1468849 ],\n",
       "       [ 1.7895619 ,  1.5771883 ,  0.9346594 ],\n",
       "       ...,\n",
       "       [ 1.4261599 ,  0.29850006,  1.4366484 ],\n",
       "       [-1.2441537 ,  0.34274337,  1.9380379 ],\n",
       "       [ 1.4767873 ,  0.04210341,  0.49480468]], dtype=float32)"
      ]
     },
     "execution_count": 32,
     "metadata": {},
     "output_type": "execute_result"
    }
   ],
   "source": [
    "mujoco_hopper_np['acs'][0]"
   ]
  },
  {
   "cell_type": "code",
   "execution_count": null,
   "metadata": {},
   "outputs": [],
   "source": [
    "mujoco_hopper_np['rews'][0][:25].sum()"
   ]
  },
  {
   "cell_type": "code",
   "execution_count": null,
   "metadata": {},
   "outputs": [],
   "source": [
    "plt.plot(mujoco_hopper_np['rews'][0][:25])"
   ]
  },
  {
   "cell_type": "code",
   "execution_count": null,
   "metadata": {},
   "outputs": [],
   "source": [
    "env.step([1,  1, 1])"
   ]
  },
  {
   "cell_type": "code",
   "execution_count": null,
   "metadata": {},
   "outputs": [],
   "source": [
    "-1*np.log(0.001)"
   ]
  },
  {
   "cell_type": "code",
   "execution_count": null,
   "metadata": {},
   "outputs": [],
   "source": []
  }
 ],
 "metadata": {
  "kernelspec": {
   "display_name": "Python 3",
   "language": "python",
   "name": "python3"
  },
  "language_info": {
   "codemirror_mode": {
    "name": "ipython",
    "version": 3
   },
   "file_extension": ".py",
   "mimetype": "text/x-python",
   "name": "python",
   "nbconvert_exporter": "python",
   "pygments_lexer": "ipython3",
   "version": "3.8.5"
  }
 },
 "nbformat": 4,
 "nbformat_minor": 4
}
